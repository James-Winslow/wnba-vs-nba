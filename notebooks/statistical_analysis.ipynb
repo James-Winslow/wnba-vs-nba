{
 "cells": [
  {
   "cell_type": "code",
   "execution_count": 2,
   "metadata": {},
   "outputs": [
    {
     "name": "stdout",
     "output_type": "stream",
     "text": [
      "Field Goal % T-test: TtestResult(statistic=np.float64(nan), pvalue=np.float64(nan), df=np.float64(nan))\n",
      "Free Throw % T-test: TtestResult(statistic=np.float64(nan), pvalue=np.float64(nan), df=np.float64(nan))\n",
      "Three Point % T-test: TtestResult(statistic=np.float64(nan), pvalue=np.float64(nan), df=np.float64(nan))\n"
     ]
    }
   ],
   "source": [
    "# notebooks/statistical_analysis.ipynb\n",
    "\n",
    "# Import necessary libraries\n",
    "import pandas as pd\n",
    "from scipy import stats\n",
    "\n",
    "# Load the combined data\n",
    "data = pd.read_csv('../data/combined_data.csv')\n",
    "\n",
    "# Statistical tests to compare means between WNBA and NBA players\n",
    "# T-test for field goal percentages\n",
    "field_goal_ttest = stats.ttest_ind(data[data['League'] == 'WNBA']['FG%'], data[data['League'] == 'NBA']['FG%'])\n",
    "# T-test for free throw percentages\n",
    "free_throw_ttest = stats.ttest_ind(data[data['League'] == 'WNBA']['FT%'], data[data['League'] == 'NBA']['FT%'])\n",
    "# T-test for three-point percentages\n",
    "three_point_ttest = stats.ttest_ind(data[data['League'] == 'WNBA']['3P%'], data[data['League'] == 'NBA']['3P%'])\n",
    "\n",
    "# Print the results of the T-tests\n",
    "print(f\"Field Goal % T-test: {field_goal_ttest}\")\n",
    "print(f\"Free Throw % T-test: {free_throw_ttest}\")\n",
    "print(f\"Three Point % T-test: {three_point_ttest}\")\n"
   ]
  }
 ],
 "metadata": {
  "kernelspec": {
   "display_name": "Python 3",
   "language": "python",
   "name": "python3"
  },
  "language_info": {
   "codemirror_mode": {
    "name": "ipython",
    "version": 3
   },
   "file_extension": ".py",
   "mimetype": "text/x-python",
   "name": "python",
   "nbconvert_exporter": "python",
   "pygments_lexer": "ipython3",
   "version": "3.9.6"
  }
 },
 "nbformat": 4,
 "nbformat_minor": 2
}
