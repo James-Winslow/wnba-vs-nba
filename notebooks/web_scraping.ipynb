{
 "cells": [
  {
   "cell_type": "code",
   "execution_count": 7,
   "metadata": {},
   "outputs": [
    {
     "name": "stdout",
     "output_type": "stream",
     "text": [
      "Available table IDs for URL https://www.basketball-reference.com/wnba/years/2023_per_game.html : ['per_game']\n"
     ]
    },
    {
     "name": "stderr",
     "output_type": "stream",
     "text": [
      "/var/folders/1x/x5_kmnm14kd528k7cn8h9ywr0000gn/T/ipykernel_32987/549795893.py:22: FutureWarning: Passing literal html to 'read_html' is deprecated and will be removed in a future version. To read from a literal string, wrap it in a 'StringIO' object.\n",
      "  df = pd.read_html(str(table))[0]\n"
     ]
    },
    {
     "name": "stdout",
     "output_type": "stream",
     "text": [
      "Available table IDs for URL https://www.basketball-reference.com/leagues/NBA_2023_per_game.html : ['per_game_stats']\n",
      "WNBA data saved to CSV file.\n",
      "NBA data saved to CSV file.\n"
     ]
    },
    {
     "name": "stderr",
     "output_type": "stream",
     "text": [
      "/var/folders/1x/x5_kmnm14kd528k7cn8h9ywr0000gn/T/ipykernel_32987/549795893.py:22: FutureWarning: Passing literal html to 'read_html' is deprecated and will be removed in a future version. To read from a literal string, wrap it in a 'StringIO' object.\n",
      "  df = pd.read_html(str(table))[0]\n"
     ]
    }
   ],
   "source": [
    "# notebooks/web_scraping.ipynb\n",
    "\n",
    "# Import necessary libraries\n",
    "import pandas as pd\n",
    "import requests\n",
    "from bs4 import BeautifulSoup\n",
    "\n",
    "# Function to scrape player statistics from Basketball Reference\n",
    "def scrape_basketball_reference(url, table_id):\n",
    "    try:\n",
    "        response = requests.get(url)\n",
    "        response.raise_for_status()  # Raise an HTTPError for bad responses\n",
    "        soup = BeautifulSoup(response.text, 'html.parser')\n",
    "\n",
    "        # Debug: print all available table IDs\n",
    "        available_tables = [tbl.get('id') for tbl in soup.find_all('table')]\n",
    "        print(\"Available table IDs for URL\", url, \":\", available_tables)\n",
    "\n",
    "        # Find the table with the specified ID\n",
    "        table = soup.find('table', {'id': table_id})\n",
    "        if table is not None:\n",
    "            df = pd.read_html(str(table))[0]\n",
    "            return df\n",
    "        else:\n",
    "            print(f\"No matching table found for the URL: {url}\")\n",
    "            return pd.DataFrame()\n",
    "    except requests.exceptions.RequestException as e:\n",
    "        print(f\"Request failed: {e}\")\n",
    "        return pd.DataFrame()\n",
    "\n",
    "# URLs for WNBA and NBA player statistics from Basketball Reference\n",
    "wnba_url = \"https://www.basketball-reference.com/wnba/years/2023_per_game.html\"\n",
    "nba_url = \"https://www.basketball-reference.com/leagues/NBA_2023_per_game.html\"\n",
    "\n",
    "# Table IDs to look for\n",
    "wnba_table_id = \"per_game\"\n",
    "nba_table_id = \"per_game_stats\"\n",
    "\n",
    "# Scraping data\n",
    "wnba_data = scrape_basketball_reference(wnba_url, wnba_table_id)\n",
    "nba_data = scrape_basketball_reference(nba_url, nba_table_id)\n",
    "\n",
    "# Save the data to CSV files only if scraping was successful\n",
    "if not wnba_data.empty:\n",
    "    wnba_data.to_csv('../data/wnba_data.csv', index=False)\n",
    "    print(\"WNBA data saved to CSV file.\")\n",
    "else:\n",
    "    print(\"Failed to scrape WNBA data. Previous data is retained.\")\n",
    "\n",
    "if not nba_data.empty:\n",
    "    nba_data.to_csv('../data/nba_data.csv', index=False)\n",
    "    print(\"NBA data saved to CSV file.\")\n",
    "else:\n",
    "    print(\"Failed to scrape NBA data. Previous data is retained.\")\n"
   ]
  }
 ],
 "metadata": {
  "kernelspec": {
   "display_name": "Python 3",
   "language": "python",
   "name": "python3"
  },
  "language_info": {
   "codemirror_mode": {
    "name": "ipython",
    "version": 3
   },
   "file_extension": ".py",
   "mimetype": "text/x-python",
   "name": "python",
   "nbconvert_exporter": "python",
   "pygments_lexer": "ipython3",
   "version": "3.9.6"
  }
 },
 "nbformat": 4,
 "nbformat_minor": 2
}
